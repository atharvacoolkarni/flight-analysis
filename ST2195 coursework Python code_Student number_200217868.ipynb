{
 "cells": [
  {
   "cell_type": "code",
   "execution_count": null,
   "id": "b0c4412b",
   "metadata": {},
   "outputs": [],
   "source": [
    "# Either the Python file should be where the data is or the working directory should be set before running the code"
   ]
  },
  {
   "cell_type": "code",
   "execution_count": null,
   "id": "f6d78592",
   "metadata": {},
   "outputs": [],
   "source": [
    "import os"
   ]
  },
  {
   "cell_type": "code",
   "execution_count": null,
   "id": "08d03eda",
   "metadata": {},
   "outputs": [],
   "source": [
    "# Check working directory\n",
    "\n",
    "os.getcwd()"
   ]
  },
  {
   "cell_type": "code",
   "execution_count": null,
   "id": "83644546",
   "metadata": {},
   "outputs": [],
   "source": [
    "# Substitute the path to where the data is located with the \"...\"\n",
    "\n",
    "os.chdir('...\\\\Data')"
   ]
  },
  {
   "cell_type": "code",
   "execution_count": null,
   "id": "8a82fa63",
   "metadata": {},
   "outputs": [],
   "source": [
    "import os\n",
    "import numpy as np\n",
    "import pandas as pd\n",
    "import seaborn as sns\n",
    "import matplotlib.pyplot as plt\n",
    "import plotly\n",
    "import plotly.express as px"
   ]
  },
  {
   "cell_type": "code",
   "execution_count": null,
   "id": "b176ef6a",
   "metadata": {},
   "outputs": [],
   "source": [
    "data = ['2004.csv', '2005.csv']\n",
    "main_df = pd.concat(pd.read_csv(filename, encoding = 'latin-1', \n",
    "                                usecols = ['Year', 'Month', 'DayOfWeek', 'CRSDepTime', 'CRSArrTime', 'DepTime', 'ArrTime',\n",
    "                                           'ArrDelay', 'DepDelay', 'TailNum', 'Origin', 'Dest']) \n",
    "                    for filename in data)"
   ]
  },
  {
   "cell_type": "code",
   "execution_count": null,
   "id": "7a2deba7",
   "metadata": {},
   "outputs": [],
   "source": [
    "main_df.info(memory_usage = 'deep')"
   ]
  },
  {
   "cell_type": "code",
   "execution_count": null,
   "id": "6a2351f2",
   "metadata": {},
   "outputs": [],
   "source": [
    "main_df"
   ]
  },
  {
   "cell_type": "code",
   "execution_count": null,
   "id": "34416537",
   "metadata": {},
   "outputs": [],
   "source": [
    "main_df.isnull().sum()"
   ]
  },
  {
   "cell_type": "code",
   "execution_count": null,
   "id": "ea7c3058",
   "metadata": {},
   "outputs": [],
   "source": [
    "missing_values = main_df.isna()"
   ]
  },
  {
   "cell_type": "code",
   "execution_count": null,
   "id": "8b8f76cf",
   "metadata": {},
   "outputs": [],
   "source": [
    "missing_values_sum = missing_values.sum()"
   ]
  },
  {
   "cell_type": "code",
   "execution_count": null,
   "id": "f0aba3c8",
   "metadata": {},
   "outputs": [],
   "source": [
    "(missing_values_sum / len(main_df)) * 100"
   ]
  },
  {
   "cell_type": "code",
   "execution_count": null,
   "id": "0f4324f9",
   "metadata": {},
   "outputs": [],
   "source": [
    "main_df = main_df.dropna()"
   ]
  },
  {
   "cell_type": "code",
   "execution_count": null,
   "id": "5c047a59",
   "metadata": {},
   "outputs": [],
   "source": [
    "main_df.isnull().sum()"
   ]
  },
  {
   "cell_type": "code",
   "execution_count": null,
   "id": "02db654c",
   "metadata": {},
   "outputs": [],
   "source": []
  },
  {
   "cell_type": "code",
   "execution_count": null,
   "id": "69a3979c",
   "metadata": {},
   "outputs": [],
   "source": [
    "# Q1) When is the best time of day, day of the week, and time of year to fly to minimise delays?"
   ]
  },
  {
   "cell_type": "code",
   "execution_count": null,
   "id": "8dd75f3f",
   "metadata": {},
   "outputs": [],
   "source": [
    "q1_df = main_df[['Month', 'DayOfWeek', 'CRSDepTime', 'CRSArrTime', 'ArrDelay', 'DepDelay']]"
   ]
  },
  {
   "cell_type": "code",
   "execution_count": null,
   "id": "9e073c3c",
   "metadata": {},
   "outputs": [],
   "source": [
    "hourly_df = q1_df[['CRSDepTime', 'CRSArrTime', 'ArrDelay', 'DepDelay']]"
   ]
  },
  {
   "cell_type": "code",
   "execution_count": null,
   "id": "69e307e2",
   "metadata": {},
   "outputs": [],
   "source": [
    "hourly_df['CRSDepTime'].max()"
   ]
  },
  {
   "cell_type": "code",
   "execution_count": null,
   "id": "a1fa6564",
   "metadata": {},
   "outputs": [],
   "source": [
    "hourly_df['CRSArrTime'].max()"
   ]
  },
  {
   "cell_type": "code",
   "execution_count": null,
   "id": "9b76fdf6",
   "metadata": {},
   "outputs": [],
   "source": [
    "hourly_df['CRSDepTime'] = hourly_df['CRSDepTime'] // 100\n",
    "hourly_df['CRSArrTime'] = hourly_df['CRSArrTime'] // 100"
   ]
  },
  {
   "cell_type": "code",
   "execution_count": null,
   "id": "474199f8",
   "metadata": {},
   "outputs": [],
   "source": [
    "def hour_format(time):\n",
    "    if int(time) == 24:\n",
    "        return int(0)\n",
    "    else:\n",
    "        return int(time)"
   ]
  },
  {
   "cell_type": "code",
   "execution_count": null,
   "id": "589c6163",
   "metadata": {},
   "outputs": [],
   "source": [
    "hourly_df['CRSDepTime'] = hourly_df['CRSDepTime'].apply(hour_format)"
   ]
  },
  {
   "cell_type": "code",
   "execution_count": null,
   "id": "00e32f24",
   "metadata": {},
   "outputs": [],
   "source": [
    "hourly_df['CRSDepTime'].max()"
   ]
  },
  {
   "cell_type": "code",
   "execution_count": null,
   "id": "e684f7c1",
   "metadata": {},
   "outputs": [],
   "source": [
    "hourly_df['CRSArrTime'] = hourly_df['CRSArrTime'].apply(hour_format)"
   ]
  },
  {
   "cell_type": "code",
   "execution_count": null,
   "id": "fe624077",
   "metadata": {},
   "outputs": [],
   "source": [
    "hourly_df['CRSArrTime'].max()"
   ]
  },
  {
   "cell_type": "code",
   "execution_count": null,
   "id": "221ae1f9",
   "metadata": {},
   "outputs": [],
   "source": [
    "depdelay_mean = hourly_df.groupby('CRSDepTime')['DepDelay'].mean().reset_index()\n",
    "arrdelay_mean = hourly_df.groupby('CRSArrTime')['ArrDelay'].mean().reset_index()"
   ]
  },
  {
   "cell_type": "code",
   "execution_count": null,
   "id": "08573be5",
   "metadata": {},
   "outputs": [],
   "source": [
    "totaldelay = pd.merge(depdelay_mean, arrdelay_mean, left_on = 'CRSDepTime', right_on = 'CRSArrTime').drop('CRSArrTime', axis=1)"
   ]
  },
  {
   "cell_type": "code",
   "execution_count": null,
   "id": "2506f71d",
   "metadata": {},
   "outputs": [],
   "source": [
    "totaldelay = totaldelay.rename(columns = {'CRSDepTime': 'Hours'})"
   ]
  },
  {
   "cell_type": "code",
   "execution_count": null,
   "id": "ab26e9eb",
   "metadata": {},
   "outputs": [],
   "source": [
    "arrdelay_hourly_mean = totaldelay['ArrDelay']\n",
    "depdelay_hourly_mean = totaldelay['DepDelay']"
   ]
  },
  {
   "cell_type": "code",
   "execution_count": null,
   "id": "5cfd4bdf",
   "metadata": {},
   "outputs": [],
   "source": [
    "fig, ax = plt.subplots(figsize = (10, 8))\n",
    "w = 0.125\n",
    "x = np.arange(len(totaldelay['Hours']))\n",
    "\n",
    "ax.bar(x - w, arrdelay_hourly_mean, color = 'crimson',\n",
    "        width = 0.25, edgecolor = 'black', label ='Arrival delay')\n",
    "ax.bar(x + w, depdelay_hourly_mean, color = 'aliceblue',\n",
    "        width = 0.25, edgecolor = 'black', label ='Departure delay')\n",
    "\n",
    "ax.set_xlabel(\"Hours\", fontweight = 'bold', fontsize = 12)\n",
    "ax.set_ylabel(\"Hourly mean delay (mins)\", fontweight = 'bold', fontsize = 12)\n",
    "ax.set_xticks(x)\n",
    "plt.title(\"Hourly mean arrival and deprature delay over two years\", fontweight = 'bold', fontsize = 14)\n",
    "plt.legend()\n",
    "plt.show()"
   ]
  },
  {
   "cell_type": "code",
   "execution_count": null,
   "id": "ca8b8571",
   "metadata": {},
   "outputs": [],
   "source": [
    "weekly_df = q1_df[['DayOfWeek', 'ArrDelay', 'DepDelay']]"
   ]
  },
  {
   "cell_type": "code",
   "execution_count": null,
   "id": "c125535e",
   "metadata": {},
   "outputs": [],
   "source": [
    "weekly_df['TotalDelay'] = weekly_df['ArrDelay'] + weekly_df['DepDelay']"
   ]
  },
  {
   "cell_type": "code",
   "execution_count": null,
   "id": "2882570f",
   "metadata": {},
   "outputs": [],
   "source": [
    "#Weekly delay mean\n",
    "\n",
    "weekly_mean_delay = weekly_df.groupby('DayOfWeek')['TotalDelay'].mean().reset_index()"
   ]
  },
  {
   "cell_type": "code",
   "execution_count": null,
   "id": "ac8a62b9",
   "metadata": {},
   "outputs": [],
   "source": [
    "weekly_totaldelay_mean = weekly_mean_delay['TotalDelay']"
   ]
  },
  {
   "cell_type": "code",
   "execution_count": null,
   "id": "34f5fca9",
   "metadata": {},
   "outputs": [],
   "source": [
    "#Weekly mean graph\n",
    "\n",
    "fig, ax = plt.subplots(figsize = (8, 6))\n",
    "y = np.arange(len(weekly_mean_delay['DayOfWeek']))\n",
    "labels = ['Monday', 'Tuesday', 'Wednesday', 'Thursday', 'Friday', 'Saturday', 'Sunday']\n",
    "\n",
    "color = ['crimson', 'aliceblue']\n",
    "\n",
    "ax.bar(y, weekly_totaldelay_mean, color = color,\n",
    "        width = 0.5, edgecolor = 'black')\n",
    "\n",
    "ax.set_xlabel(\"Day\", fontweight = 'bold', fontsize = 12)\n",
    "ax.set_ylabel(\"Weekly mean delay (mins)\", fontweight = 'bold', fontsize = 12)\n",
    "ax.set_xticks(y, labels)\n",
    "plt.title(\"Weekly mean of total delay over two years\", fontweight = 'bold', fontsize = 14)\n",
    "plt.show()"
   ]
  },
  {
   "cell_type": "code",
   "execution_count": null,
   "id": "d379c4f4",
   "metadata": {},
   "outputs": [],
   "source": [
    "monthly_df = q1_df[['Month', 'ArrDelay', 'DepDelay']]"
   ]
  },
  {
   "cell_type": "code",
   "execution_count": null,
   "id": "4dff03d8",
   "metadata": {},
   "outputs": [],
   "source": [
    "monthly_df['TotalDelay'] = monthly_df['ArrDelay'] + monthly_df['DepDelay']"
   ]
  },
  {
   "cell_type": "code",
   "execution_count": null,
   "id": "9e018673",
   "metadata": {},
   "outputs": [],
   "source": [
    "#Monthly delay mean\n",
    "\n",
    "monthly_mean_delay = monthly_df.groupby('Month')['TotalDelay'].mean().reset_index()"
   ]
  },
  {
   "cell_type": "code",
   "execution_count": null,
   "id": "e72159e0",
   "metadata": {},
   "outputs": [],
   "source": [
    "monthly_totaldelay_mean = monthly_mean_delay['TotalDelay']"
   ]
  },
  {
   "cell_type": "code",
   "execution_count": null,
   "id": "d7522b5c",
   "metadata": {},
   "outputs": [],
   "source": [
    "#Monthly mean graph\n",
    "\n",
    "fig, ax = plt.subplots(figsize = (12, 8))\n",
    "z = np.arange(len(monthly_mean_delay['Month']))\n",
    "labels = ['January', 'February', 'March', 'April', 'May', 'June', 'July', 'August', 'September', 'October', 'November',\n",
    "          'December']\n",
    "\n",
    "color = ['crimson', 'aliceblue']\n",
    "\n",
    "ax.bar(z, monthly_totaldelay_mean, color = color,\n",
    "        width = 0.5, edgecolor ='black')\n",
    "\n",
    "ax.set_xlabel(\"Month\", fontweight = 'bold', fontsize = 12)\n",
    "ax.set_ylabel(\"Monthly mean delay (mins)\", fontweight = 'bold', fontsize = 12)\n",
    "ax.set_xticks(z, labels)\n",
    "plt.title(\"Monthly mean of total delay over two years\", fontweight = 'bold', fontsize = 14)\n",
    "plt.show()"
   ]
  },
  {
   "cell_type": "code",
   "execution_count": null,
   "id": "1426ee60",
   "metadata": {},
   "outputs": [],
   "source": []
  },
  {
   "cell_type": "code",
   "execution_count": null,
   "id": "7b547371",
   "metadata": {},
   "outputs": [],
   "source": []
  },
  {
   "cell_type": "code",
   "execution_count": null,
   "id": "b1d5e7c9",
   "metadata": {},
   "outputs": [],
   "source": [
    "# Q2) Do older planes suffer more delays?"
   ]
  },
  {
   "cell_type": "code",
   "execution_count": null,
   "id": "aee789aa",
   "metadata": {},
   "outputs": [],
   "source": [
    "plane_data = pd.read_csv('plane-data.csv', encoding = 'latin-1', usecols = ['tailnum', 'year'])"
   ]
  },
  {
   "cell_type": "code",
   "execution_count": null,
   "id": "cf685c20",
   "metadata": {},
   "outputs": [],
   "source": [
    "plane_data.isnull().sum()"
   ]
  },
  {
   "cell_type": "code",
   "execution_count": null,
   "id": "1ced9236",
   "metadata": {},
   "outputs": [],
   "source": [
    "plane_data = plane_data.dropna()"
   ]
  },
  {
   "cell_type": "code",
   "execution_count": null,
   "id": "3b8be19f",
   "metadata": {},
   "outputs": [],
   "source": [
    "plane_data = plane_data.sort_values(by = ['year'])"
   ]
  },
  {
   "cell_type": "code",
   "execution_count": null,
   "id": "50ff0a8c",
   "metadata": {},
   "outputs": [],
   "source": [
    "plane_data = plane_data[(plane_data.year != '') & (plane_data.year != '0000') & (plane_data.year != 'None')]"
   ]
  },
  {
   "cell_type": "code",
   "execution_count": null,
   "id": "eca04f0a",
   "metadata": {},
   "outputs": [],
   "source": [
    "plane_data.rename(columns = {'year': 'year of manufacture'}, inplace = True)"
   ]
  },
  {
   "cell_type": "code",
   "execution_count": null,
   "id": "440861bc",
   "metadata": {},
   "outputs": [],
   "source": [
    "plane_data"
   ]
  },
  {
   "cell_type": "code",
   "execution_count": null,
   "id": "ddb28ca8",
   "metadata": {},
   "outputs": [],
   "source": [
    "q2_df = main_df[['Year', 'TailNum', 'ArrDelay', 'DepDelay']]"
   ]
  },
  {
   "cell_type": "code",
   "execution_count": null,
   "id": "a439d94e",
   "metadata": {},
   "outputs": [],
   "source": [
    "q2_df = pd.merge(q2_df, plane_data, left_on = 'TailNum', right_on = 'tailnum', how = 'inner', indicator = False)"
   ]
  },
  {
   "cell_type": "code",
   "execution_count": null,
   "id": "fe32d63f",
   "metadata": {},
   "outputs": [],
   "source": [
    "q2_df = q2_df.drop(['Year', 'TailNum', 'tailnum'], axis = 1)"
   ]
  },
  {
   "cell_type": "code",
   "execution_count": null,
   "id": "61b9a45e",
   "metadata": {},
   "outputs": [],
   "source": [
    "q2_df['Total Delay'] = q2_df['ArrDelay'] + q2_df['DepDelay']"
   ]
  },
  {
   "cell_type": "code",
   "execution_count": null,
   "id": "3ab6eff9",
   "metadata": {},
   "outputs": [],
   "source": [
    "yearly_plane_mean = q2_df.groupby('year of manufacture')['Total Delay'].mean().reset_index()"
   ]
  },
  {
   "cell_type": "code",
   "execution_count": null,
   "id": "b06050c2",
   "metadata": {
    "scrolled": true
   },
   "outputs": [],
   "source": [
    "yearly_plane_mean['year of manufacture'] = yearly_plane_mean['year of manufacture'].astype(int)"
   ]
  },
  {
   "cell_type": "code",
   "execution_count": null,
   "id": "adcb485b",
   "metadata": {
    "scrolled": true
   },
   "outputs": [],
   "source": [
    "q2_56_79 = yearly_plane_mean[yearly_plane_mean['year of manufacture'].between(1956, 1979)]\n",
    "q2_80_07 = yearly_plane_mean[yearly_plane_mean['year of manufacture'].between(1980, 2007)]"
   ]
  },
  {
   "cell_type": "code",
   "execution_count": null,
   "id": "d897a8ca",
   "metadata": {},
   "outputs": [],
   "source": [
    "sns.set_style(\"darkgrid\")"
   ]
  },
  {
   "cell_type": "code",
   "execution_count": null,
   "id": "513d80b3",
   "metadata": {},
   "outputs": [],
   "source": [
    "plt.subplots(figsize = (8, 6))\n",
    "\n",
    "sns.regplot(data = q2_56_79, x = \"year of manufacture\", y = \"Total Delay\", ci = 95, label = '1956-1979')\n",
    "sns.regplot(data = q2_80_07, x = \"year of manufacture\", y = \"Total Delay\", ci = 95, label = '1980-2005')\n",
    "\n",
    "plt.title(\"Total Delay mean by year of manufacture\", fontdict = {'fontsize': 16, 'fontweight': 'bold'})\n",
    "plt.xlabel(\"Year\", fontdict = {'fontsize': 14, 'fontweight': 'bold'})\n",
    "plt.ylabel(\"Mean Total Delay\", fontdict = {'fontsize': 14, 'fontweight': 'bold'})\n",
    "\n",
    "plt.legend()\n",
    "plt.show()"
   ]
  },
  {
   "cell_type": "code",
   "execution_count": null,
   "id": "f12ec2a5",
   "metadata": {},
   "outputs": [],
   "source": []
  },
  {
   "cell_type": "code",
   "execution_count": null,
   "id": "e2aef472",
   "metadata": {},
   "outputs": [],
   "source": []
  },
  {
   "cell_type": "code",
   "execution_count": null,
   "id": "725cd4ea",
   "metadata": {},
   "outputs": [],
   "source": [
    "# Q3) How does the number of people (number of flights) flying between different locations change over time?"
   ]
  },
  {
   "cell_type": "code",
   "execution_count": null,
   "id": "f42caed8",
   "metadata": {},
   "outputs": [],
   "source": [
    "q3_df = main_df[['Year', 'Origin', 'Dest']]"
   ]
  },
  {
   "cell_type": "code",
   "execution_count": null,
   "id": "bb41ce9e",
   "metadata": {},
   "outputs": [],
   "source": [
    "q3_df['Connection'] = q3_df['Origin'] +\"-\"+ q3_df['Dest']"
   ]
  },
  {
   "cell_type": "code",
   "execution_count": null,
   "id": "67257056",
   "metadata": {},
   "outputs": [],
   "source": [
    "q3_df = q3_df.drop(['Origin', 'Dest'], axis = 1)"
   ]
  },
  {
   "cell_type": "code",
   "execution_count": null,
   "id": "ffe13b58",
   "metadata": {},
   "outputs": [],
   "source": [
    "q3_df = q3_df.groupby(['Year', 'Connection']).size().reset_index(name = 'Counts')"
   ]
  },
  {
   "cell_type": "code",
   "execution_count": null,
   "id": "ac280bf1",
   "metadata": {},
   "outputs": [],
   "source": [
    "q3_df['Connection'] = q3_df['Connection'].str.split('-').apply(lambda x: '-'.join(sorted(x)))"
   ]
  },
  {
   "cell_type": "code",
   "execution_count": null,
   "id": "042b5e67",
   "metadata": {},
   "outputs": [],
   "source": [
    "q3_df = q3_df.groupby(['Year', 'Connection']).sum().reset_index()"
   ]
  },
  {
   "cell_type": "code",
   "execution_count": null,
   "id": "55c9610b",
   "metadata": {},
   "outputs": [],
   "source": [
    "q3_df = q3_df.pivot(index = 'Connection', columns = 'Year', values = 'Counts')"
   ]
  },
  {
   "cell_type": "code",
   "execution_count": null,
   "id": "9c1c1744",
   "metadata": {},
   "outputs": [],
   "source": [
    "q3_df = q3_df.dropna()"
   ]
  },
  {
   "cell_type": "code",
   "execution_count": null,
   "id": "49025cf0",
   "metadata": {},
   "outputs": [],
   "source": [
    "q3_df['Total'] = q3_df.sum(axis = 1)"
   ]
  },
  {
   "cell_type": "code",
   "execution_count": null,
   "id": "17e0dcbb",
   "metadata": {},
   "outputs": [],
   "source": [
    "filtered_q3_df = q3_df.loc[(q3_df['Total'] > 100) & (q3_df['Total'] < 500)]"
   ]
  },
  {
   "cell_type": "code",
   "execution_count": null,
   "id": "334ae9f5",
   "metadata": {},
   "outputs": [],
   "source": [
    "filtered_q3_df = filtered_q3_df.sort_values(by = ['Total'], ascending = True)"
   ]
  },
  {
   "cell_type": "code",
   "execution_count": null,
   "id": "0fda53db",
   "metadata": {},
   "outputs": [],
   "source": [
    "select_airports = filtered_q3_df.drop(['Total'], axis = 1)"
   ]
  },
  {
   "cell_type": "code",
   "execution_count": null,
   "id": "a24ccd19",
   "metadata": {},
   "outputs": [],
   "source": [
    "select5_airports = select_airports.head(5)"
   ]
  },
  {
   "cell_type": "code",
   "execution_count": null,
   "id": "70ce86e9",
   "metadata": {},
   "outputs": [],
   "source": [
    "select5_airports = select5_airports.div(select5_airports.sum(axis = 1), axis = 0).mul(100).round(1)"
   ]
  },
  {
   "cell_type": "code",
   "execution_count": null,
   "id": "96a5c03e",
   "metadata": {},
   "outputs": [],
   "source": [
    "ax = select5_airports.plot(kind = 'bar', stacked = True, colormap = 'tab10', figsize = (8,6))\n",
    "\n",
    "ax.set_xlabel(\"Connection\", fontdict = {'fontsize': 14, 'fontweight': 'bold'})\n",
    "ax.set_ylabel(\"Percentage\", fontdict = {'fontsize': 14, 'fontweight': 'bold'})\n",
    "ax.set_title(\"Percentage stacked bar plot of 5 connections over two years\", \n",
    "             fontdict = {'fontsize': 14, 'fontweight': 'bold'})\n",
    "plt.xticks(rotation = 0)\n",
    "ax.legend(loc = 'center left', bbox_to_anchor = (1.0, 0.5))\n",
    "plt.show()"
   ]
  },
  {
   "cell_type": "code",
   "execution_count": null,
   "id": "e569717c",
   "metadata": {},
   "outputs": [],
   "source": []
  },
  {
   "cell_type": "code",
   "execution_count": null,
   "id": "1756d0c6",
   "metadata": {},
   "outputs": [],
   "source": []
  },
  {
   "cell_type": "code",
   "execution_count": null,
   "id": "706b3a3b",
   "metadata": {},
   "outputs": [],
   "source": [
    "# Q4) Can you detect cascading failures as delays in one airport create delays in others?"
   ]
  },
  {
   "cell_type": "code",
   "execution_count": null,
   "id": "80111912",
   "metadata": {},
   "outputs": [],
   "source": [
    "q4_df = main_df[['Origin', 'Dest', 'ArrDelay', 'DepDelay']]"
   ]
  },
  {
   "cell_type": "code",
   "execution_count": null,
   "id": "31172ac7",
   "metadata": {},
   "outputs": [],
   "source": [
    "q4_df.isnull().sum()"
   ]
  },
  {
   "cell_type": "code",
   "execution_count": null,
   "id": "70d7a947",
   "metadata": {},
   "outputs": [],
   "source": [
    "q4_df = q4_df.dropna()"
   ]
  },
  {
   "cell_type": "code",
   "execution_count": null,
   "id": "b90dce20",
   "metadata": {},
   "outputs": [],
   "source": [
    "q4_df['Total delay'] = q4_df['ArrDelay'] + q4_df['DepDelay']"
   ]
  },
  {
   "cell_type": "code",
   "execution_count": null,
   "id": "305a3148",
   "metadata": {},
   "outputs": [],
   "source": [
    "top5_airports = q4_df.groupby(['Origin'])['Total delay'].sum().nlargest(5).index"
   ]
  },
  {
   "cell_type": "code",
   "execution_count": null,
   "id": "34eb6665",
   "metadata": {},
   "outputs": [],
   "source": [
    "top5_airport_delays = q4_df[q4_df['Origin'].isin(top5_airports) & q4_df['Dest'].isin(top5_airports)]"
   ]
  },
  {
   "cell_type": "code",
   "execution_count": null,
   "id": "c49c646a",
   "metadata": {},
   "outputs": [],
   "source": [
    "delay_matrix = pd.pivot_table(top5_airport_delays, values = 'Total delay', index = ['Origin'], columns = ['Dest'], \n",
    "                              aggfunc = np.mean)"
   ]
  },
  {
   "cell_type": "code",
   "execution_count": null,
   "id": "b8abece6",
   "metadata": {},
   "outputs": [],
   "source": [
    "corr_matrix = delay_matrix.corr()"
   ]
  },
  {
   "cell_type": "code",
   "execution_count": null,
   "id": "29205406",
   "metadata": {},
   "outputs": [],
   "source": [
    "mask = np.zeros_like(corr_matrix, dtype = bool)\n",
    "mask[np.triu_indices_from(mask)] = True"
   ]
  },
  {
   "cell_type": "code",
   "execution_count": null,
   "id": "176dd19d",
   "metadata": {},
   "outputs": [],
   "source": [
    "sns.set(font_scale = 1.3)\n",
    "plt.figure(figsize = (10,6))\n",
    "sns.heatmap(corr_matrix, mask = mask, annot = True, cmap = 'RdBu_r', vmin = -1, vmax = 1, square = True,\n",
    "            xticklabels = corr_matrix.columns, yticklabels = corr_matrix.index, cbar_kws={\"shrink\": 0.5})\n",
    "\n",
    "plt.yticks(rotation = 0)\n",
    "plt.title('Triangle correlation heatmap for top 5 airports by total delay', fontsize = 14, fontweight = 'bold')\n",
    "plt.xlabel('Destination Airport', fontsize = 14, fontweight = 'bold')\n",
    "plt.ylabel('Origin Airport', fontsize = 14, fontweight = 'bold')\n",
    "\n",
    "plt.show()"
   ]
  },
  {
   "cell_type": "code",
   "execution_count": null,
   "id": "51a7f1cf",
   "metadata": {},
   "outputs": [],
   "source": []
  },
  {
   "cell_type": "code",
   "execution_count": null,
   "id": "f765760d",
   "metadata": {},
   "outputs": [],
   "source": []
  },
  {
   "cell_type": "code",
   "execution_count": null,
   "id": "d51965b5",
   "metadata": {},
   "outputs": [],
   "source": [
    "# Q5) Use the available variables to construct a model that predicts delays"
   ]
  },
  {
   "cell_type": "code",
   "execution_count": null,
   "id": "72c749e2",
   "metadata": {},
   "outputs": [],
   "source": [
    "%matplotlib inline\n",
    "from sklearn.metrics import plot_roc_curve\n",
    "from sklearn.model_selection import train_test_split, GridSearchCV\n",
    "from sklearn.linear_model import LinearRegression\n",
    "from sklearn.linear_model import LogisticRegression\n",
    "from sklearn.ensemble import GradientBoostingClassifier\n",
    "from sklearn.pipeline import Pipeline\n",
    "from sklearn.impute import SimpleImputer\n",
    "from sklearn.preprocessing import StandardScaler, OneHotEncoder\n",
    "from sklearn.compose import ColumnTransformer"
   ]
  },
  {
   "cell_type": "code",
   "execution_count": null,
   "id": "7d36af22",
   "metadata": {},
   "outputs": [],
   "source": [
    "q5_df = main_df[['CRSDepTime', 'CRSArrTime', 'DepTime', 'ArrTime', 'ArrDelay', 'DepDelay', 'Origin', 'Dest']]"
   ]
  },
  {
   "cell_type": "code",
   "execution_count": null,
   "id": "4ace9212",
   "metadata": {},
   "outputs": [],
   "source": [
    "q5_df"
   ]
  },
  {
   "cell_type": "code",
   "execution_count": null,
   "id": "7891cbc0",
   "metadata": {},
   "outputs": [],
   "source": [
    "q5_df.isnull().sum()"
   ]
  },
  {
   "cell_type": "code",
   "execution_count": null,
   "id": "c9819f88",
   "metadata": {},
   "outputs": [],
   "source": [
    "sample_df = q5_df.sample(200000)"
   ]
  },
  {
   "cell_type": "code",
   "execution_count": null,
   "id": "1623b216",
   "metadata": {},
   "outputs": [],
   "source": [
    "sample_df['Total Delay'] = sample_df['ArrDelay'] + sample_df['DepDelay']"
   ]
  },
  {
   "cell_type": "code",
   "execution_count": null,
   "id": "6dc9d7eb",
   "metadata": {},
   "outputs": [],
   "source": [
    "sample_df['TotalDelay'] = np.where(sample_df['Total Delay'] > 0, 1, 0)"
   ]
  },
  {
   "cell_type": "code",
   "execution_count": null,
   "id": "faadf373",
   "metadata": {},
   "outputs": [],
   "source": [
    "sample_df = sample_df.drop(['ArrDelay', 'DepDelay', 'Total Delay'], axis = 1)"
   ]
  },
  {
   "cell_type": "code",
   "execution_count": null,
   "id": "161ef403",
   "metadata": {},
   "outputs": [],
   "source": [
    "features = ['CRSDepTime', 'CRSArrTime', 'DepTime', 'ArrTime', 'Origin', 'Dest']\n",
    "\n",
    "X = sample_df[features].copy()\n",
    "Y = sample_df['TotalDelay']"
   ]
  },
  {
   "cell_type": "code",
   "execution_count": null,
   "id": "dbebf6bc",
   "metadata": {},
   "outputs": [],
   "source": [
    "numerical_features = ['CRSDepTime', 'CRSArrTime', 'DepTime', 'ArrTime']"
   ]
  },
  {
   "cell_type": "code",
   "execution_count": null,
   "id": "73930f48",
   "metadata": {},
   "outputs": [],
   "source": [
    "numerical_transformer = Pipeline(steps=[\n",
    " ('imputer', SimpleImputer()),\n",
    " ('scaler', StandardScaler())])"
   ]
  },
  {
   "cell_type": "code",
   "execution_count": null,
   "id": "28da1957",
   "metadata": {},
   "outputs": [],
   "source": [
    "categorical_features = ['Origin', 'Dest']"
   ]
  },
  {
   "cell_type": "code",
   "execution_count": null,
   "id": "d6f42133",
   "metadata": {},
   "outputs": [],
   "source": [
    "categorical_transformer = Pipeline(steps=[\n",
    " ('imputer', SimpleImputer()),\n",
    " ('onehot', OneHotEncoder(handle_unknown='ignore'))])"
   ]
  },
  {
   "cell_type": "code",
   "execution_count": null,
   "id": "b3816990",
   "metadata": {},
   "outputs": [],
   "source": [
    "data_transformer = ColumnTransformer(\n",
    " transformers=[\n",
    " ('num', numerical_transformer, numerical_features),\n",
    " ('cat', categorical_transformer, categorical_features)])"
   ]
  },
  {
   "cell_type": "code",
   "execution_count": null,
   "id": "a5758041",
   "metadata": {},
   "outputs": [],
   "source": [
    "pipe_lr = Pipeline(steps=[('data_transformer', data_transformer),\n",
    " ('pipe_lr', LogisticRegression(max_iter = 10000))])"
   ]
  },
  {
   "cell_type": "code",
   "execution_count": null,
   "id": "fd7c3bd5",
   "metadata": {},
   "outputs": [],
   "source": [
    "X_train, X_test, y_train, y_test = train_test_split(X, Y, test_size = 0.2,random_state = 1)"
   ]
  },
  {
   "cell_type": "code",
   "execution_count": null,
   "id": "915f5856",
   "metadata": {},
   "outputs": [],
   "source": [
    "X_train.values.reshape(-1, 1)"
   ]
  },
  {
   "cell_type": "code",
   "execution_count": null,
   "id": "a2cd863a",
   "metadata": {},
   "outputs": [],
   "source": [
    "y_train.values.reshape(-1, 1)"
   ]
  },
  {
   "cell_type": "code",
   "execution_count": null,
   "id": "cd4ce63c",
   "metadata": {},
   "outputs": [],
   "source": [
    "param_grid = {\n",
    " 'data_transformer__num__imputer__strategy': ['mean', 'median'],\n",
    " 'data_transformer__cat__imputer__strategy': ['constant','most_frequent']\n",
    "}"
   ]
  },
  {
   "cell_type": "code",
   "execution_count": null,
   "id": "e45d6845",
   "metadata": {},
   "outputs": [],
   "source": [
    "grid_lr = GridSearchCV(pipe_lr, param_grid=param_grid, n_jobs=-1)"
   ]
  },
  {
   "cell_type": "code",
   "execution_count": null,
   "id": "cc576247",
   "metadata": {},
   "outputs": [],
   "source": [
    "%%timeit\n",
    "\n",
    "grid_lr.fit(X_train, y_train)"
   ]
  },
  {
   "cell_type": "code",
   "execution_count": null,
   "id": "efb12c01",
   "metadata": {},
   "outputs": [],
   "source": [
    "pipe_gdb = Pipeline(steps=[('data_transformer', data_transformer),\n",
    " ('pipe_gdb',GradientBoostingClassifier(random_state=2))])"
   ]
  },
  {
   "cell_type": "code",
   "execution_count": null,
   "id": "78ca5589",
   "metadata": {},
   "outputs": [],
   "source": [
    "grid_gdb = GridSearchCV(pipe_gdb, param_grid=param_grid, n_jobs=-1)"
   ]
  },
  {
   "cell_type": "code",
   "execution_count": null,
   "id": "53c955c9",
   "metadata": {},
   "outputs": [],
   "source": [
    "%%timeit\n",
    "\n",
    "grid_gdb.fit(X_train, y_train)"
   ]
  },
  {
   "cell_type": "code",
   "execution_count": null,
   "id": "6d6ac910",
   "metadata": {},
   "outputs": [],
   "source": [
    "ax = plt.gca()\n",
    "plot_roc_curve(grid_lr, X_test, y_test, ax = ax, name='Logistic Regression')\n",
    "plot_roc_curve(grid_gdb, X_test, y_test, ax = ax, name='Gradient Boosting')\n",
    "plt.show()"
   ]
  },
  {
   "cell_type": "code",
   "execution_count": null,
   "id": "0fe28a37",
   "metadata": {},
   "outputs": [],
   "source": []
  }
 ],
 "metadata": {
  "kernelspec": {
   "display_name": "Python 3 (ipykernel)",
   "language": "python",
   "name": "python3"
  },
  "language_info": {
   "codemirror_mode": {
    "name": "ipython",
    "version": 3
   },
   "file_extension": ".py",
   "mimetype": "text/x-python",
   "name": "python",
   "nbconvert_exporter": "python",
   "pygments_lexer": "ipython3",
   "version": "3.9.12"
  }
 },
 "nbformat": 4,
 "nbformat_minor": 5
}
